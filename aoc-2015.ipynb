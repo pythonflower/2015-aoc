{
 "cells": [
  {
   "cell_type": "markdown",
   "metadata": {},
   "source": [
    "# Advent of Code 2015\n",
    "## In the style of Peter Norvig\n",
    "\n",
    "First some imports and utility Functions.\n",
    "Most of Peter's utility functions have moved into <a href=file:///Volumes/generic/apuri/g/misc/python/2015-advent-of-code/util.py> util.py </a>"
   ]
  },
  {
   "cell_type": "code",
   "execution_count": 138,
   "metadata": {},
   "outputs": [],
   "source": [
    "import time\n",
    "import itertools\n",
    "import math\n",
    "import collections\n",
    "import re\n",
    "import operator\n",
    "import numpy\n",
    "import sys\n",
    "import string\n",
    "import re\n",
    "import functools\n",
    "import util as u\n",
    "import more_itertools as mi\n",
    "#from fastcore.test import test_eq  # fastcore is library I want to learn\n",
    "\n",
    "def test_eq(actual,expected):  # glorified assert, but when it fails you get some useful info\n",
    "    if actual != expected:\n",
    "        print('actual=',actual)\n",
    "        print('expected=', expected)\n",
    "        assert False\n",
    "\n",
    "def Input(n, dir = 'data'):\n",
    "        return open(f'{dir}/{n:02d}.txt').read()\n",
    "\n",
    "def remove_all(elt, xs):\n",
    "        return [x for x in xs if x != elt]\n",
    "\n"
   ]
  },
  {
   "cell_type": "markdown",
   "metadata": {},
   "source": [
    "## <a href=\"https://adventofcode.com/2015/day/1\">Day 1 </a> :  Not quite Lisp"
   ]
  },
  {
   "cell_type": "code",
   "execution_count": 114,
   "metadata": {},
   "outputs": [],
   "source": [
    "def bracketmap(bracketstr):\n",
    "        return [1 if c == '(' else -1 for c in bracketstr ]\n",
    "\n",
    "def level(bracketstr):\n",
    "        return sum(bracketmap(bracketstr))\n",
    "    \n",
    "# tests\n",
    "test_eq([level(s) for s in '(())  ()()  (((  (()(()(  ))(((((  ())  ))(  )))  )())())'.split()],\n",
    "       [0, 0, 3, 3, 3, -1, -1, -3, -3])\n",
    "\n",
    "# puzzle\n",
    "test_eq(level(mi.first(u.Input(1))), 138)"
   ]
  },
  {
   "cell_type": "code",
   "execution_count": 45,
   "metadata": {},
   "outputs": [],
   "source": [
    "# Part 2\n",
    "\n",
    "def steps_to_basement(bracketstr):\n",
    "        \"2020.09.16 1905-2005 - mostly to learn doctest\"\n",
    "        return 2+mi.last(enumerate(itertools.takewhile(lambda x: x >= 0, \n",
    "                                                       itertools.accumulate(bracketmap(bracketstr)))),\n",
    "                         (-1,0))[0] # the [0] picks out the enumeration number \n",
    "\n",
    "# tests\n",
    "test_eq([steps_to_basement(s) for s in '()())  )'.split()], [5, 1])\n",
    "\n",
    "# puzzle\n",
    "test_eq(steps_to_basement(Input(1, 'data').strip()), 1771)\n"
   ]
  },
  {
   "cell_type": "markdown",
   "metadata": {},
   "source": [
    "## <a href=\"https://adventofcode.com/2015/day/2\"> Day 2 </a>: I Was Told There Would Be No Math"
   ]
  },
  {
   "cell_type": "code",
   "execution_count": 92,
   "metadata": {},
   "outputs": [],
   "source": [
    "def box_area_to_wrap(dims):\n",
    "        \"\"\"\n",
    "        dims is a tuple of box dimensions (length l, width w, and height h)\n",
    "        to wrap we need the surface area + slack = area of smallest side\n",
    "        \"\"\"\n",
    "        sides = [x*y for x, y in itertools.combinations(dims, 2)]\n",
    "        return sum(sides) * 2 + min(sides)\n",
    "\n",
    "# tests\n",
    "test_eq([box_area_to_wrap(dims) for dims in [(2,3,4), (1,1,10)]], \n",
    "        [58, 43])\n",
    " \n",
    "# puzzle\n",
    "test_eq(sum(map(box_area_to_wrap, u.Input(2, u.integers))), 1586300)\n"
   ]
  },
  {
   "cell_type": "code",
   "execution_count": 100,
   "metadata": {},
   "outputs": [],
   "source": [
    "# Part 2\n",
    "def ribbon(dims):\n",
    "        \"\"\"\n",
    "        2020.09.16 2005-2045\n",
    "\n",
    "        A present with dimensions 2x3x4 needs \n",
    "        2+2+3+3 = 10 feet of ribbon to wrap the present plus \n",
    "        2*3*4 = 24 feet of ribbon for the bow, for a total of 34 feet.\n",
    "        \n",
    "        A present with dimensions 1x1x10 needs \n",
    "        1+1+1+1 = 4 feet of ribbon to wrap the present plus \n",
    "        1*1*10 = 10 feet of ribbon for the bow, for a total of 14 feet.\n",
    "       \"\"\"\n",
    "        dims = sorted(dims)\n",
    "        return sum(dims[:2]) * 2 + math.prod(dims)\n",
    "    \n",
    "# tests\n",
    "test_eq(list(map(ribbon, [(2,3,4),(1,1,10)])),  [34, 14])\n",
    "\n",
    "# puzzle\n",
    "test_eq(sum(ribbon(dims) for dims in u.Input(2, u.integers)), 3737498)\n",
    "\n",
    "\n",
    "   "
   ]
  },
  {
   "cell_type": "markdown",
   "metadata": {},
   "source": [
    "## <a href=\"https://adventofcode.com/2015/day/3\"> Day 3 </a>: Perfectly Spherical Houses in a Vacuum"
   ]
  },
  {
   "cell_type": "code",
   "execution_count": 130,
   "metadata": {},
   "outputs": [],
   "source": [
    "P = complex\n",
    "\n",
    "def pathremap(path):\n",
    "        \"convert the arrows into 'steps' in the complex plane\"\n",
    "        d = {   '^' : P(0,1), '>' : P(1),\n",
    "                'v' : P(0,-1), '<': P(-1) }\n",
    "        return map(d.get, path)\n",
    "\n",
    "def distinct_points(path):\n",
    "        \"2020.09.16 2045-2105 = 20m\"\n",
    "        return len(set(itertools.accumulate(itertools.chain([P(0)], pathremap(path)))))\n",
    "\n",
    "\n",
    "test_eq([distinct_points(s) for s in ['>', '^>v<', '^v^v^v^v^v']],\n",
    "        [2, 4, 2])\n",
    "test_eq(distinct_points(mi.first(u.Input(3))), 2565)\n"
   ]
  },
  {
   "cell_type": "code",
   "execution_count": 144,
   "metadata": {},
   "outputs": [],
   "source": [
    "def two_santas(path):\n",
    "        \"2020.09.15 2105-2135 = 30m\"\n",
    "        paths = mi.distribute(2, pathremap(path))  # one path for each santa\n",
    "        paths = [itertools.accumulate(itertools.chain([P(0)],path)) for path in paths]\n",
    "        return len(set(itertools.chain(*paths)))\n",
    "\n",
    "test_eq([two_santas(s) for s in ['^v', '^>v<', '^v^v^v^v^v']],\n",
    "    [3, 3, 11])\n",
    "test_eq(two_santas(mi.first(u.Input(3))), 2639)\n"
   ]
  },
  {
   "cell_type": "markdown",
   "metadata": {},
   "source": [
    "## <a href=\"https://adventofcode.com/2015/day/4\"> Day 4 </a>: The Ideal Stocking Stuffer\n",
    "\n",
    "These can take a /while/ to evaluate "
   ]
  },
  {
   "cell_type": "code",
   "execution_count": 178,
   "metadata": {},
   "outputs": [
    {
     "name": "stdout",
     "output_type": "stream",
     "text": [
      "CPU times: user 605 ms, sys: 1.64 ms, total: 607 ms\n",
      "Wall time: 609 ms\n"
     ]
    }
   ],
   "source": [
    "import hashlib\n",
    "\n",
    "def functional_find_num(key, nzeros=5):\n",
    "        # NOT USED : just here to show that sometimes fp seems less clear\n",
    "        return mi.first(i\n",
    "            for i, m in enumerate(map(u.compose(hashlib.md5,\n",
    "                                            str.encode, \n",
    "                                            functools.partial(operator.add, key), \n",
    "                                                    # prepend key\n",
    "                                            str),   # convert count to a str\n",
    "                                  itertools.count()))\n",
    "                if m.hexdigest()[:nzeros] == '0'*nzeros)\n",
    "\n",
    "                \n",
    "def find_num(key, nzeros=5):\n",
    "        \"2020.09.16 2135-2200 = 25m\"\n",
    "        for i in itertools.count():\n",
    "                s = key+str(i)\n",
    "                m = hashlib.md5(s.encode())\n",
    "                if m.hexdigest()[:nzeros] == '0'*nzeros: return i\n",
    "\n",
    "       \n",
    "# tests\n",
    "test_eq(u.mapt(find_num, ['abcdef', 'pqrstuv']),\n",
    "        (609043, 1048970))\n",
    "\n",
    "# puzzle\n",
    "%time test_eq(find_num('iwrupvqb'), 346386)"
   ]
  },
  {
   "cell_type": "code",
   "execution_count": 177,
   "metadata": {},
   "outputs": [
    {
     "name": "stdout",
     "output_type": "stream",
     "text": [
      "CPU times: user 21.4 s, sys: 21 ms, total: 21.4 s\n",
      "Wall time: 21.5 s\n"
     ]
    }
   ],
   "source": [
    "# takes about 20s on my machine\n",
    "%time test_eq(find_num('iwrupvqb', 6), 9958218)"
   ]
  },
  {
   "cell_type": "markdown",
   "metadata": {},
   "source": [
    "## <a href=\"https://adventofcode.com/2015/day/5\"> Day 5 </a>: Doesn't He Have Intern-Elves For This?\n"
   ]
  },
  {
   "cell_type": "code",
   "execution_count": 196,
   "metadata": {},
   "outputs": [],
   "source": [
    "def is_nice(s):\n",
    "        \"2020.09.16 2200-2230 = 30m\"\n",
    "        def n_vowels(s):\n",
    "                return len([c for c in s if c in 'aeiou'])\n",
    "        def has_double_letter(s):\n",
    "                return next((x for x, y in mi.pairwise(s) if x == y), None) != None\n",
    "        def has_forbiddens(s):\n",
    "                forbiddens = 'ab cd pq xy'.split()\n",
    "                return any(bad in s for bad in forbiddens)\n",
    "        return n_vowels(s) >= 3 and has_double_letter(s) and not has_forbiddens(s)\n",
    "\n",
    "# tests\n",
    "test_eq(list(map(is_nice, 'ugknbfddgicrmopn aaa jchzalrnumimnmhp haegwjzuvuyypxyu dvszwmarrgswjxmb'.split())),\n",
    "        [True, True, False, False, False])\n",
    "\n",
    "# puzzle\n",
    "test_eq(mi.quantify(map(is_nice,u.Input(5))), 258)"
   ]
  },
  {
   "cell_type": "code",
   "execution_count": 191,
   "metadata": {},
   "outputs": [],
   "source": [
    "def is_new_nice(s):\n",
    "        \"2020.09.16 2230-2245    15m\"\n",
    "        def has_double_letter_with_gap(s):\n",
    "                for i in range(len(s)-2):\n",
    "                        if s[i] == s[i+2]:\n",
    "                                return True\n",
    "                return False\n",
    "        def has_duplicate_nonoverlapping_pair(s):\n",
    "                for i in range(len(s)-3):\n",
    "                        if s[i:i+2] in s[i+2:]:\n",
    "                                return True\n",
    "                return False\n",
    "        return has_duplicate_nonoverlapping_pair(s) and has_double_letter_with_gap(s)\n",
    "\n",
    "# tests\n",
    "test_eq(list(map(is_new_nice, 'xyxy qjhvhtzxzqqjkmpb xxyxx uurcxstgmygtbstg ieodomkazucvgmuy'.split())),\n",
    "        [True, True, True, False, False])\n",
    "# puzzle\n",
    "test_eq(mi.quantify(map(is_new_nice,u.Input(5))), 53)"
   ]
  },
  {
   "cell_type": "markdown",
   "metadata": {},
   "source": [
    "## <a href=\"https://adventofcode.com/2015/day/6\"> Day 6 </a>: Probably a Fire Hazard\n"
   ]
  },
  {
   "cell_type": "code",
   "execution_count": 232,
   "metadata": {},
   "outputs": [
    {
     "name": "stdout",
     "output_type": "stream",
     "text": [
      "CPU times: user 3.67 s, sys: 9.59 ms, total: 3.68 s\n",
      "Wall time: 3.69 s\n"
     ]
    }
   ],
   "source": [
    "def get_cmd(words):\n",
    "        if words[0] == 'toggle':\n",
    "                words = ['.'] + list(words)\n",
    "        _, cmd, tlx, tly, _, brx, bry = words\n",
    "        tlx, tly, brx, bry = map(int,(tlx, tly, brx, bry))\n",
    "        return cmd, tlx, tly, brx+1, bry+1\n",
    "\n",
    "def nlights(instructions):\n",
    "        # 2020.09.16 2300-2330    30m\n",
    "        sz = 1000\n",
    "        L = [False]*sz*sz\n",
    "\n",
    "        for words in instructions:\n",
    "                cmd, tlx, tly, brx, bry = get_cmd(words)\n",
    "                for x in range(tlx, brx):\n",
    "                        for y in range(tly, bry):\n",
    "                                pt = x + y*sz\n",
    "                                if cmd == 'toggle':\n",
    "                                        L[pt] = not L[pt]\n",
    "                                else:\n",
    "                                        L[pt] = cmd == 'on'\n",
    "        return mi.quantify(L)\n",
    "\n",
    "#assert brightness(instructions) == 14110788\n",
    "# puzzle\n",
    "%time test_eq(nlights(u.Input(6, u.words)), 377891)\n"
   ]
  },
  {
   "cell_type": "code",
   "execution_count": 224,
   "metadata": {},
   "outputs": [
    {
     "name": "stdout",
     "output_type": "stream",
     "text": [
      "CPU times: user 5.84 s, sys: 11.4 ms, total: 5.85 s\n",
      "Wall time: 5.86 s\n"
     ]
    }
   ],
   "source": [
    "# this needs get_cmd from the cell above\n",
    "def brightness(instructions):\n",
    "        # 2020.09.16 2330-2350  20m - accidentally dropped +P(1,1)\n",
    "        sz = 1000\n",
    "        L = [0]*sz*sz\n",
    "\n",
    "        for words in instructions:\n",
    "                cmd, tlx, tly, brx, bry = get_cmd(words)\n",
    "                for x in range(tlx, brx):\n",
    "                        for y in range(tly, bry):\n",
    "                                pt = x + y*sz\n",
    "                                if cmd == 'on':\n",
    "                                        L[pt] += 1\n",
    "                                elif cmd == 'off':\n",
    "                                        L[pt] = max(0, L[pt] - 1)\n",
    "                                else:\n",
    "                                        L[pt] += 2\n",
    "        return sum(L)\n",
    "\n",
    "\n",
    "# puzzle\n",
    "%time test_eq(brightness(u.Input(6, u.words)), 14110788)\n"
   ]
  },
  {
   "cell_type": "markdown",
   "metadata": {},
   "source": [
    "## <a href=\"https://adventofcode.com/2015/day/7\"> Day 7 </a>: Probably a Fire Hazard\n"
   ]
  }
 ],
 "metadata": {
  "kernelspec": {
   "display_name": "Python 3",
   "language": "python",
   "name": "python3"
  },
  "language_info": {
   "codemirror_mode": {
    "name": "ipython",
    "version": 3
   },
   "file_extension": ".py",
   "mimetype": "text/x-python",
   "name": "python",
   "nbconvert_exporter": "python",
   "pygments_lexer": "ipython3",
   "version": "3.8.5"
  }
 },
 "nbformat": 4,
 "nbformat_minor": 4
}
