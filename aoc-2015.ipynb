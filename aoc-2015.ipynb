{
 "cells": [
  {
   "cell_type": "markdown",
   "metadata": {},
   "source": [
    "# Advent of Code 2015\n",
    "## In the style of Peter Norvig\n",
    "\n",
    "First some imports and utility Functions.\n",
    "Most of Peter's utility functions have moved into <a href=file:///Volumes/generic/apuri/g/misc/python/2015-advent-of-code/util.py> util.py </a>"
   ]
  },
  {
   "cell_type": "code",
   "execution_count": 12,
   "metadata": {},
   "outputs": [],
   "source": [
    "import time\n",
    "import itertools\n",
    "import math\n",
    "import collections\n",
    "import re\n",
    "import operator\n",
    "import numpy\n",
    "import sys\n",
    "import string\n",
    "import re\n",
    "import functools\n",
    "import util as u\n",
    "import more_itertools as mi\n",
    "from fastcore.test import test_eq  # fastcore is library I want to learn\n",
    "\n",
    "\n",
    "def Input(n, dir = 'data'):\n",
    "        return open(f'{dir}/{n:02d}.txt').read()\n",
    "\n",
    "def remove_all(elt, xs):\n",
    "        return [x for x in xs if x != elt]\n",
    "\n"
   ]
  },
  {
   "cell_type": "markdown",
   "metadata": {},
   "source": [
    "## <a href=\"https://adventofcode.com/2015/day/1\">Day 1 </a> :  Not quite Lisp"
   ]
  },
  {
   "cell_type": "code",
   "execution_count": 37,
   "metadata": {},
   "outputs": [],
   "source": [
    "def bracketmap(bracketstr):\n",
    "        return [1 if c == '(' else -1 for c in bracketstr ]\n",
    "\n",
    "def level(bracketstr):\n",
    "        return sum(bracketmap(bracketstr))\n",
    "    \n",
    "# tests\n",
    "test_eq([level(s) for s in '(())  ()()  (((  (()(()(  ))(((((  ())  ))(  )))  )())())'.split()],\n",
    "       [0, 0, 3, 3, 3, -1, -1, -3, -3])\n",
    "\n",
    "# puzzle\n",
    "test_eq(level(Input(1, 'data').strip()), 138)"
   ]
  },
  {
   "cell_type": "code",
   "execution_count": 45,
   "metadata": {},
   "outputs": [],
   "source": [
    "# Part 2\n",
    "\n",
    "def steps_to_basement(bracketstr):\n",
    "        \"2020.09.16 1905-2005 - mostly to learn doctest\"\n",
    "        return 2+mi.last(enumerate(itertools.takewhile(lambda x: x >= 0, \n",
    "                                                       itertools.accumulate(bracketmap(bracketstr)))),\n",
    "                         (-1,0))[0] # the [0] picks out the enumeration number \n",
    "\n",
    "# tests\n",
    "test_eq([steps_to_basement(s) for s in '()())  )'.split()], [5, 1])\n",
    "\n",
    "# puzzle\n",
    "test_eq(steps_to_basement(Input(1, 'data').strip()), 1771)\n"
   ]
  },
  {
   "cell_type": "markdown",
   "metadata": {},
   "source": [
    "## <a href=\"https://adventofcode.com/2015/day/2\"> Day 2 </a>: I Was Told There Would Be No Math"
   ]
  },
  {
   "cell_type": "code",
   "execution_count": 92,
   "metadata": {},
   "outputs": [],
   "source": [
    "def box_area_to_wrap(dims):\n",
    "        \"\"\"\n",
    "        dims is a tuple of box dimensions (length l, width w, and height h)\n",
    "        to wrap we need the surface area + slack = area of smallest side\n",
    "        \"\"\"\n",
    "        sides = [x*y for x, y in itertools.combinations(dims, 2)]\n",
    "        return sum(sides) * 2 + min(sides)\n",
    "\n",
    "# tests\n",
    "test_eq([box_area_to_wrap(dims) for dims in [(2,3,4), (1,1,10)]], \n",
    "        [58, 43])\n",
    " \n",
    "# puzzle\n",
    "test_eq(sum(map(box_area_to_wrap, u.Input(2, u.integers))), 1586300)\n"
   ]
  },
  {
   "cell_type": "code",
   "execution_count": 100,
   "metadata": {},
   "outputs": [],
   "source": [
    "# Part 2\n",
    "def ribbon(dims):\n",
    "        \"\"\"\n",
    "        2020.09.16 2005-2045\n",
    "\n",
    "        A present with dimensions 2x3x4 needs \n",
    "        2+2+3+3 = 10 feet of ribbon to wrap the present plus \n",
    "        2*3*4 = 24 feet of ribbon for the bow, for a total of 34 feet.\n",
    "        \n",
    "        A present with dimensions 1x1x10 needs \n",
    "        1+1+1+1 = 4 feet of ribbon to wrap the present plus \n",
    "        1*1*10 = 10 feet of ribbon for the bow, for a total of 14 feet.\n",
    "       \"\"\"\n",
    "        dims = sorted(dims)\n",
    "        return sum(dims[:2]) * 2 + math.prod(dims)\n",
    "    \n",
    "# tests\n",
    "test_eq(list(map(ribbon, [(2,3,4),(1,1,10)])),  [34, 14])\n",
    "\n",
    "# puzzle\n",
    "test_eq(sum(ribbon(dims) for dims in u.Input(2, u.integers)), 3737498)\n",
    "\n",
    "\n",
    "   "
   ]
  },
  {
   "cell_type": "markdown",
   "metadata": {},
   "source": [
    "## <a href=\"https://adventofcode.com/2015/day/3\"> Day 3 </a>: Perfectly Spherical Houses in a Vacuum"
   ]
  },
  {
   "cell_type": "code",
   "execution_count": null,
   "metadata": {},
   "outputs": [],
   "source": []
  }
 ],
 "metadata": {
  "kernelspec": {
   "display_name": "Python 3",
   "language": "python",
   "name": "python3"
  },
  "language_info": {
   "codemirror_mode": {
    "name": "ipython",
    "version": 3
   },
   "file_extension": ".py",
   "mimetype": "text/x-python",
   "name": "python",
   "nbconvert_exporter": "python",
   "pygments_lexer": "ipython3",
   "version": "3.8.5"
  }
 },
 "nbformat": 4,
 "nbformat_minor": 4
}
